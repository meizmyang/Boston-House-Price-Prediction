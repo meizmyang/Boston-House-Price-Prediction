{
 "cells": [
  {
   "cell_type": "markdown",
   "metadata": {},
   "source": [
    "## Boston House Pricing Prediction"
   ]
  },
  {
   "cell_type": "code",
   "execution_count": 36,
   "metadata": {
    "collapsed": true
   },
   "outputs": [],
   "source": [
    "import numpy as np\n",
    "import matplotlib.pyplot as plt\n",
    "%matplotlib inline\n",
    "from sklearn.datasets import load_boston"
   ]
  },
  {
   "cell_type": "code",
   "execution_count": 3,
   "metadata": {
    "collapsed": true
   },
   "outputs": [],
   "source": [
    "boston=load_boston()"
   ]
  },
  {
   "cell_type": "code",
   "execution_count": 10,
   "metadata": {},
   "outputs": [
    {
     "data": {
      "text/plain": [
       "(506, 13)"
      ]
     },
     "execution_count": 10,
     "metadata": {},
     "output_type": "execute_result"
    }
   ],
   "source": [
    "boston.data.shape"
   ]
  },
  {
   "cell_type": "code",
   "execution_count": 11,
   "metadata": {},
   "outputs": [
    {
     "data": {
      "text/plain": [
       "array(['CRIM', 'ZN', 'INDUS', 'CHAS', 'NOX', 'RM', 'AGE', 'DIS', 'RAD',\n",
       "       'TAX', 'PTRATIO', 'B', 'LSTAT'], dtype='<U7')"
      ]
     },
     "execution_count": 11,
     "metadata": {},
     "output_type": "execute_result"
    }
   ],
   "source": [
    "boston.feature_names"
   ]
  },
  {
   "cell_type": "code",
   "execution_count": 108,
   "metadata": {
    "collapsed": true
   },
   "outputs": [],
   "source": [
    "# explore relationship between feature - number of rooms \"RM\" and target - house price\n",
    "x=boston.data[:,5]\n",
    "x=np.array([ [v] for v in x])\n",
    "y=boston.target"
   ]
  },
  {
   "cell_type": "code",
   "execution_count": 109,
   "metadata": {},
   "outputs": [
    {
     "name": "stderr",
     "output_type": "stream",
     "text": [
      "C:\\Users\\mibiy\\Anaconda3\\lib\\site-packages\\ipykernel_launcher.py:2: FutureWarning: `rcond` parameter will change to the default of machine precision times ``max(M, N)`` where M and N are the input matrix dimensions.\n",
      "To use the future default and silence this warning we advise to pass `rcond=None`, to keep using the old, explicitly pass `rcond=-1`.\n",
      "  \n"
     ]
    },
    {
     "data": {
      "text/plain": [
       "(array([3.6533504]), array([29555.78152864]), 1, array([142.24836817]))"
      ]
     },
     "execution_count": 109,
     "metadata": {},
     "output_type": "execute_result"
    }
   ],
   "source": [
    "# return the least quare solution for y = x*slope\n",
    "slope,residuals,rank,sv = np.linalg.lstsq(x,y)\n",
    "slope,residuals,rank,sv"
   ]
  },
  {
   "cell_type": "code",
   "execution_count": 110,
   "metadata": {},
   "outputs": [
    {
     "data": {
      "image/png": "[encoded data removed]",
      "text/plain": [
       "<matplotlib.figure.Figure at 0x2074b95d5f8>"
      ]
     },
     "metadata": {},
     "output_type": "display_data"
    }
   ],
   "source": [
    "plt.scatter(x, boston.target, color='b', label=\"original data\")\n",
    "plt.plot(x, slope*x, color='r', label=\"fitted line\")\n",
    "plt.legend()\n",
    "plt.xlim(3,10)\n",
    "plt.ylim(-10,60)\n",
    "plt.show()"
   ]
  },
  {
   "cell_type": "code",
   "execution_count": 111,
   "metadata": {},
   "outputs": [
    {
     "data": {
      "text/plain": [
       "array([7.64268509])"
      ]
     },
     "execution_count": 111,
     "metadata": {},
     "output_type": "execute_result"
    }
   ],
   "source": [
    "# see how well is the line fitting\n",
    "rmse=np.sqrt(residuals[0]/len(x))\n",
    "rmse"
   ]
  },
  {
   "cell_type": "code",
   "execution_count": 112,
   "metadata": {
    "collapsed": true
   },
   "outputs": [],
   "source": [
    "# to increase fit, add bias - y = x*slope + bias\n",
    "x=boston.data[:,5]\n",
    "x=np.array([ [v,1] for v in x])"
   ]
  },
  {
   "cell_type": "code",
   "execution_count": 113,
   "metadata": {},
   "outputs": [
    {
     "name": "stderr",
     "output_type": "stream",
     "text": [
      "C:\\Users\\mibiy\\Anaconda3\\lib\\site-packages\\ipykernel_launcher.py:1: FutureWarning: `rcond` parameter will change to the default of machine precision times ``max(M, N)`` where M and N are the input matrix dimensions.\n",
      "To use the future default and silence this warning we advise to pass `rcond=None`, to keep using the old, explicitly pass `rcond=-1`.\n",
      "  \"\"\"Entry point for launching an IPython kernel.\n"
     ]
    },
    {
     "data": {
      "text/plain": [
       "((9.102108981180315, -34.670620776438575),\n",
       " array([22061.87919621]),\n",
       " 2,\n",
       " array([143.99484122,   2.46656609]))"
      ]
     },
     "execution_count": 113,
     "metadata": {},
     "output_type": "execute_result"
    }
   ],
   "source": [
    "(slope,bias),residuals,rank,sv = np.linalg.lstsq(x,y)\n",
    "(slope,bias),residuals,rank,sv"
   ]
  },
  {
   "cell_type": "code",
   "execution_count": 93,
   "metadata": {},
   "outputs": [
    {
     "data": {
      "image/png": "[encoded data removed]",
      "text/plain": [
       "<matplotlib.figure.Figure at 0x2074ba634e0>"
      ]
     },
     "metadata": {},
     "output_type": "display_data"
    }
   ],
   "source": [
    "plt.scatter(boston.data[:,5], boston.target, color='b')\n",
    "plt.plot(x, x*slope+bias, color='r')\n",
    "plt.xlim(3,10)\n",
    "plt.ylim(-10,60)\n",
    "plt.show()"
   ]
  },
  {
   "cell_type": "code",
   "execution_count": 118,
   "metadata": {},
   "outputs": [
    {
     "data": {
      "text/plain": [
       "6.603071389222561"
      ]
     },
     "execution_count": 118,
     "metadata": {},
     "output_type": "execute_result"
    }
   ],
   "source": [
    "# see how well is the line fitting\n",
    "rmse=np.sqrt(residuals[0]/len(x))\n",
    "rmse"
   ]
  },
  {
   "cell_type": "code",
   "execution_count": 163,
   "metadata": {},
   "outputs": [],
   "source": [
    "# use all features in the dataset now\n",
    "x=boston.data\n",
    "y=boston.target"
   ]
  },
  {
   "cell_type": "code",
   "execution_count": 190,
   "metadata": {
    "collapsed": true
   },
   "outputs": [],
   "source": [
    "# use OLS in sklearn\n",
    "from sklearn.linear_model import LinearRegression\n",
    "lm=LinearRegression(fit_intercept=True) # set fit_intercept=True to add bias\n",
    "lm=lm.fit(x,y)"
   ]
  },
  {
   "cell_type": "code",
   "execution_count": 191,
   "metadata": {},
   "outputs": [
    {
     "data": {
      "text/plain": [
       "11080.276284149875"
      ]
     },
     "execution_count": 191,
     "metadata": {},
     "output_type": "execute_result"
    }
   ],
   "source": [
    "# get predicted value\n",
    "p=lm.predict(x)\n",
    "# get residuals\n",
    "e=p-y\n",
    "# get rss\n",
    "total_error=np.sum(e*e)\n",
    "total_error"
   ]
  },
  {
   "cell_type": "code",
   "execution_count": 181,
   "metadata": {},
   "outputs": [
    {
     "name": "stdout",
     "output_type": "stream",
     "text": [
      "RMSE:4.679506300635516\n"
     ]
    }
   ],
   "source": [
    "# rmse\n",
    "rmse=np.sqrt(total_error/len(p))\n",
    "print(\"RMSE:{}\".format(rmse))"
   ]
  },
  {
   "cell_type": "code",
   "execution_count": 205,
   "metadata": {},
   "outputs": [
    {
     "name": "stdout",
     "output_type": "stream",
     "text": [
      "Cross Validation RMSE:5.881925072430114\n"
     ]
    }
   ],
   "source": [
    "# KFold cross validation\n",
    "from sklearn.cross_validation import KFold\n",
    "kf=KFold(len(x), n_folds=10)\n",
    "total_error=0\n",
    "\n",
    "for train,test in kf:\n",
    "    lm=lm.fit(x[train],y[train])\n",
    "    p=lm.predict(x[test])\n",
    "    e=p-y[test]\n",
    "    total_error\n",
    "    total_error+=np.sum(e*e)\n",
    "\n",
    "rmse_cv=np.sqrt(total_error/len(x))\n",
    "print(\"Cross Validation RMSE:{}\".format(rmse_cv))"
   ]
  },
  {
   "cell_type": "code",
   "execution_count": 212,
   "metadata": {},
   "outputs": [
    {
     "name": "stdout",
     "output_type": "stream",
     "text": [
      "Cross Validation RMSE:5.8277783799775085\n"
     ]
    }
   ],
   "source": [
    "# use regularization to decrease cross validation rmse --- use ridge regression\n",
    "from sklearn.linear_model import Ridge\n",
    "ls=Ridge()\n",
    "\n",
    "total_error=0\n",
    "for train,test in kf:\n",
    "    lm=ls.fit(x[train],y[train])\n",
    "    p=lm.predict(x[test])\n",
    "    e=p-y[test]\n",
    "    total_error\n",
    "    total_error+=np.sum(e*e)\n",
    "\n",
    "rmse_cv=np.sqrt(total_error/len(x))\n",
    "print(\"Cross Validation RMSE:{}\".format(rmse_cv))"
   ]
  }
 ],
 "metadata": {
  "kernelspec": {
   "display_name": "Python 3",
   "language": "python",
   "name": "python3"
  },
  "language_info": {
   "codemirror_mode": {
    "name": "ipython",
    "version": 3
   },
   "file_extension": ".py",
   "mimetype": "text/x-python",
   "name": "python",
   "nbconvert_exporter": "python",
   "pygments_lexer": "ipython3",
   "version": "3.6.3"
  }
 },
 "nbformat": 4,
 "nbformat_minor": 2
}
